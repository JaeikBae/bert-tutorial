{
 "cells": [
  {
   "cell_type": "code",
   "execution_count": null,
   "metadata": {},
   "outputs": [],
   "source": [
    "!pip install tensorflow"
   ]
  },
  {
   "cell_type": "code",
   "execution_count": 1,
   "metadata": {},
   "outputs": [
    {
     "name": "stdout",
     "output_type": "stream",
     "text": [
      "uncased_L-2_H-128_A-2/vocab.txt\n"
     ]
    }
   ],
   "source": [
    "import tokenization\n",
    "import tensorflow as tf\n",
    "import random\n",
    "\n",
    "from create_pretraining_data import create_training_instances\n",
    "from types import SimpleNamespace\n",
    "\n",
    "FLAGS = SimpleNamespace(\n",
    "    input_file=\"sample_text.txt\",\n",
    "    vocab_file=\"uncased_L-2_H-128_A-2/vocab.txt\",\n",
    "    do_lower_case=True,\n",
    "    random_seed=12345,\n",
    "    max_seq_length=128,\n",
    "    max_predictions_per_seq=20,\n",
    "    dupe_factor=10,\n",
    "    masked_lm_prob=0.15,\n",
    "    do_whole_word_mask=False,\n",
    "    short_seq_prob=0.1\n",
    ")\n",
    "\n",
    "print(FLAGS.vocab_file)"
   ]
  },
  {
   "cell_type": "code",
   "execution_count": 14,
   "metadata": {},
   "outputs": [
    {
     "name": "stdout",
     "output_type": "stream",
     "text": [
      "*** Reading from input files ***\n",
      "  %s sample_text.txt\n",
      "[CLS] wood pile refused to kind ##le a fire to dry his bed [MASK] clothes , and he had [MASK] ##ours ##e [MASK] a more provide ##nt [MASK] ' s to supply the deficiency . \n",
      "this was nearly opposite . \n",
      "mr . \n",
      "cass ##ius crossed the highway , and stopped [MASK] . \n",
      "something [MASK] ##ed in the nearest [MASK] pool before him . \n",
      "gold [SEP] wonderful to relate , not [MASK] irregular , shape ##less fragment of crude ore , fresh [MASK] nature ' [MASK] cr ##ucible , but a bit of [MASK] ##er ' s hand ##ic ##raf ##t in [MASK] form of a [MASK] gold ring . \n",
      "[MASK] at it more at ##ten ##tively [MASK] [MASK] saw that it bore the inscription , \" may [SEP] "
     ]
    }
   ],
   "source": [
    "tokenizer = tokenization.FullTokenizer(\n",
    "    vocab_file=FLAGS.vocab_file, do_lower_case=FLAGS.do_lower_case)\n",
    "\n",
    "input_files = []\n",
    "for input_pattern in FLAGS.input_file.split(\",\"):\n",
    "    input_files.extend(tf.io.gfile.glob(input_pattern))\n",
    "\n",
    "print(\"*** Reading from input files ***\")\n",
    "for input_file in input_files:\n",
    "    print(\"  %s\", input_file)\n",
    "    \n",
    "rng = random.Random(FLAGS.random_seed)\n",
    "\n",
    "instances = create_training_instances(\n",
    "    input_files, tokenizer, FLAGS.max_seq_length, FLAGS.dupe_factor,\n",
    "    FLAGS.short_seq_prob, FLAGS.masked_lm_prob, FLAGS.max_predictions_per_seq, rng)\n",
    "\n",
    "for i in instances[4].tokens:\n",
    "    print(i, end=' ')\n",
    "    if i == '.':\n",
    "        print()\n",
    "\n",
    "# wood pile refused to kindle a fire to dry his bed-clothes, and he had recourse to a more provident neighbor's to supply the deficiency.\n",
    "# This was nearly opposite.\n",
    "# Mr. Cassius crossed the highway, and stopped suddenly.\n",
    "# Something glittered in the nearest red pool before him.\n",
    "# Gold, surely!\n",
    "# But, wonderful to relate, not an irregular, shapeless fragment of crude ore, fresh from Nature's crucible, but a bit of jeweler's handicraft in the form of a plain gold ring.\n",
    "# Looking at it more attentively, he saw that it bore the inscription, \"May to Cass.\""
   ]
  },
  {
   "cell_type": "code",
   "execution_count": null,
   "metadata": {},
   "outputs": [],
   "source": []
  }
 ],
 "metadata": {
  "kernelspec": {
   "display_name": "Python 3",
   "language": "python",
   "name": "python3"
  },
  "language_info": {
   "codemirror_mode": {
    "name": "ipython",
    "version": 3
   },
   "file_extension": ".py",
   "mimetype": "text/x-python",
   "name": "python",
   "nbconvert_exporter": "python",
   "pygments_lexer": "ipython3",
   "version": "3.12.8"
  }
 },
 "nbformat": 4,
 "nbformat_minor": 2
}
